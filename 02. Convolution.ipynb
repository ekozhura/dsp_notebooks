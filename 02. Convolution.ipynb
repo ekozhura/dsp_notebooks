{
 "cells": [
  {
   "cell_type": "markdown",
   "metadata": {},
   "source": [
    "### The Delta Function and Impulse Response\n",
    "\n",
    "The __delta function $\\delta[n]$__, or __unit impulse__, is a _normalized_ impulse, that is, sample number zero has a value of one, while all other samples have a value of zero.\n",
    "\n",
    "$$\n",
    "\\delta[n] = \\left\\{\n",
    "  \\begin{array}{lr}\n",
    "    1, n = 0,\\\\\n",
    "    0, n \\neq 0.\n",
    "  \\end{array}\n",
    "\\right.\n",
    "$$\n",
    "\n",
    "\n",
    "The __impulse response $h[n]$__ is the signal that exits a system when a delta function is the input."
   ]
  },
  {
   "cell_type": "code",
   "execution_count": 1,
   "metadata": {},
   "outputs": [],
   "source": [
    "%matplotlib inline\n",
    "\n",
    "import matplotlib\n",
    "import numpy as np\n",
    "import matplotlib.pyplot as plt\n",
    "from pylab import rcParams"
   ]
  },
  {
   "cell_type": "code",
   "execution_count": 20,
   "metadata": {},
   "outputs": [
    {
     "data": {
      "image/png": "[encoded data removed]",
      "text/plain": [
       "<Figure size 288x216 with 1 Axes>"
      ]
     },
     "metadata": {
      "needs_background": "light"
     },
     "output_type": "display_data"
    }
   ],
   "source": [
    "rcParams['figure.figsize'] = 4, 3\n",
    "n = np.arange(-4, 6, 1);\n",
    "x = np.zeros(10);\n",
    "x[4] = 1;\n",
    "plt.stem(n, x, use_line_collection=True);"
   ]
  },
  {
   "cell_type": "markdown",
   "metadata": {},
   "source": [
    "Any sequence can be represented as a sum of scaled, delayed (shifted) impulses. \n",
    "\n",
    "$$x[n] = \\sum_{k=-\\infty}^{\\infty}x[k]\\delta[n-k] $$\n",
    "\n",
    "For example, $p[n] = a_1\\delta[n-1] + a_2\\delta[n-2] + a_3\\delta[n-7]$"
   ]
  },
  {
   "cell_type": "code",
   "execution_count": 38,
   "metadata": {},
   "outputs": [
    {
     "data": {
      "image/png": "[encoded data removed]",
      "text/plain": [
       "<Figure size 288x216 with 1 Axes>"
      ]
     },
     "metadata": {
      "needs_background": "light"
     },
     "output_type": "display_data"
    }
   ],
   "source": [
    "x = np.zeros(10);\n",
    "shifts = [1, 2, 7];\n",
    "amp = [1, -0.5, -0.5];\n",
    "\n",
    "for i, k in enumerate(shifts):\n",
    "    x[k] = a[i];\n",
    "    \n",
    "plt.stem(x, use_line_collection=True, markerfmt='C0o');"
   ]
  },
  {
   "cell_type": "markdown",
   "metadata": {},
   "source": [
    "### Linear and Time Invariant Systems\n",
    "\n",
    "A _discrete-time system_ is a transformation or operator that maps an input sequnce $x[n]$ into an output sequence $y[n]$:\n",
    "\n",
    "$$ y[n] = T\\{x[n]\\} $$\n",
    "\n",
    "If $y_1[n]$ and $y_2[n]$ are the response of a system when $x_1[n]$ and $x_2[n]$ are the respective inputs, then the system is __linear__ if and only if:\n",
    "\n",
    "$$ T\\{x_1[n] + x_2[n]\\} = T\\{x_1[n]\\} + T\\{x_2[n]\\} = y_1[n] + y_2[n] \\text{ (1)} $$\n",
    "\n",
    "and\n",
    "\n",
    "$$ T\\{\\alpha x[n]\\} = \\alpha T\\{x[n]\\} = \\alpha y[n] \\text{ (2)} $$\n",
    "\n",
    "where $\\alpha$ is an arbitrary constant. (1) is the _additivity property_, (2) is the _homogeneity_ or _scaling property_. Together they comprise the principle of superposition:\n",
    "\n",
    "$$ T\\{a x_1[n] + b x_2[n]\\} = a T\\{x_1[n]\\} + b T\\{x_2[n]\\} $$\n",
    "\n",
    "A __time invariant__ system is a system for which a time shift or delay of the input sequence causes a corresponding shift in the output sequence: $x_1[n] = x[n - n_0]$ produces $y_1[n] = y[n - n_0]$\n",
    "\n",
    "__LTI systems__ are both linear and time invariant.\n",
    "\n",
    "Let $h_k[n]$ be the response of the system to the input $\\delta[n-k]$, an impulse occuring at $n = k$:\n",
    "\n",
    "$$ y[n] = T\\bigg\\{ \\sum_{k=-\\infty}^{\\infty}x[k]\\delta[n-k] \\bigg\\} = \\sum_{k=-\\infty}^{\\infty}x[k] T\\{\\delta[n-k]\\} = \\sum_{k=-\\infty}^{\\infty}x[k] h_k[n] $$\n",
    "\n",
    "The property of time invariance implies that if $h[n]$ is the response to $\\delta[n]$, then the response to $\\delta[n - k]$ is $h[n-k]$:\n",
    "\n",
    "$$ y[n] = \\sum_{k=-\\infty}^{\\infty}x[k] h[n - k], \\textrm{ for all } n $$"
   ]
  },
  {
   "cell_type": "markdown",
   "metadata": {},
   "source": [
    "### Convolution\n",
    "\n",
    "__Convolution__ is a formal mathematical operation, which takes two signals and produces a third signal. It is used to describe the relationship between three signals of interest: the input signal $x[n]$, the impulse response $h[n]$, and the output signal $y[n]$:\n",
    "\n",
    "$$ y[n] = \\sum_{k=-\\infty}^{\\infty}x[k] h[n - k] = x[n] * h[n] $$"
   ]
  },
  {
   "cell_type": "code",
   "execution_count": null,
   "metadata": {},
   "outputs": [],
   "source": []
  }
 ],
 "metadata": {
  "kernelspec": {
   "display_name": "Python 3",
   "language": "python",
   "name": "python3"
  },
  "language_info": {
   "codemirror_mode": {
    "name": "ipython",
    "version": 3
   },
   "file_extension": ".py",
   "mimetype": "text/x-python",
   "name": "python",
   "nbconvert_exporter": "python",
   "pygments_lexer": "ipython3",
   "version": "3.8.3"
  }
 },
 "nbformat": 4,
 "nbformat_minor": 4
}
